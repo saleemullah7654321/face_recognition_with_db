{
 "cells": [
  {
   "cell_type": "markdown",
   "metadata": {},
   "source": [
    "# import required"
   ]
  },
  {
   "cell_type": "code",
   "execution_count": null,
   "metadata": {},
   "outputs": [],
   "source": [
    "import face_recognition\n",
    "from PIL import Image\n",
    "import numpy as np\n",
    "import tqdm\n",
    "from time import time"
   ]
  },
  {
   "cell_type": "code",
   "execution_count": null,
   "metadata": {},
   "outputs": [],
   "source": [
    "face_recognition.__version__"
   ]
  },
  {
   "cell_type": "markdown",
   "metadata": {},
   "source": [
    "# Make Encoding of any face image"
   ]
  },
  {
   "cell_type": "code",
   "execution_count": null,
   "metadata": {},
   "outputs": [],
   "source": [
    "def get_encoding(img_path):\n",
    "    try:\n",
    "        known_image = face_recognition.load_image_file(img_path)\n",
    "        face=face_recognition.face_locations(known_image,number_of_times_to_upsample=2)\n",
    "        known_encoding = face_recognition.face_encodings(known_image,known_face_locations=face,num_jitters=1)[0]\n",
    "        return known_encoding\n",
    "    except:\n",
    "        return None"
   ]
  },
  {
   "cell_type": "markdown",
   "metadata": {},
   "source": [
    "# MySql Functions for db_creation, table_creation, insertion and comparioson of 1 image with all db images"
   ]
  },
  {
   "cell_type": "code",
   "execution_count": null,
   "metadata": {},
   "outputs": [],
   "source": [
    "import mysql.connector\n",
    "import traceback\n",
    "\n",
    "def make_db(db_name=\"face_db\"):\n",
    "    try:\n",
    "        connection = mysql.connector.connect(host='localhost',\n",
    "                                             user='root',\n",
    "                                             password='')\n",
    "        cursor = connection.cursor()\n",
    "\n",
    "        cursor.execute(f\"CREATE DATABASE {db_name}\")\n",
    "        print(f\"Successfully {db_name} created!\")\n",
    "    except mysql.connector.Error as error:\n",
    "        print(\"Failed to create db! may be db exist\".format(error))\n",
    "\n",
    "    finally:\n",
    "        if connection.is_connected():\n",
    "            cursor.close()\n",
    "            connection.close()\n",
    "            print(\"MySQL connection is closed\")\n",
    "\n",
    "\n",
    "def make_table(table_name=\"face_table\"):\n",
    "    try:\n",
    "        connection = mysql.connector.connect(host='localhost',\n",
    "                                             user='root',\n",
    "                                             password='',\n",
    "                                             database='face_db')\n",
    "        cursor = connection.cursor()\n",
    "\n",
    "        with open('./queries.sql')as f:\n",
    "            tabel_query=f.read()\n",
    "        cursor.execute(tabel_query)\n",
    "        print(f\"Successfully {table_name} created!\")\n",
    "    except mysql.connector.Error as error:\n",
    "        print(\"Failed to create table! may be table exist \".format(error))\n",
    "    finally:\n",
    "        if connection.is_connected():\n",
    "            cursor.close()\n",
    "            connection.close()\n",
    "            print(\"MySQL connection is closed\")\n",
    "\n",
    "def insert_record_into_table(r_id, c_id, encoding):\n",
    "    try:\n",
    "        connection = mysql.connector.connect(host='localhost',\n",
    "                                             user='root',\n",
    "                                             password='',\n",
    "                                             database='face_db',)\n",
    "        cursor = connection.cursor()\n",
    "        mySql_insert_query = f'''INSERT INTO face_table \n",
    "        (r_id,c_id,{','.join([f'e{i}' for i in range(1,129)])})\n",
    "        VALUES({r_id},{c_id},{','.join([str(i) for i in encoding])})\n",
    "        '''\n",
    "        cursor.execute(mySql_insert_query)\n",
    "        connection.commit()\n",
    "#         print(\"Record inserted successfully into Laptop table\")\n",
    "\n",
    "    except mysql.connector.Error as error:\n",
    "        print(\"Failed to insert into MySQL table {}\".format(error))\n",
    "\n",
    "    finally:\n",
    "        if connection.is_connected():\n",
    "            cursor.close()\n",
    "            connection.close()\n",
    "#             print(\"MySQL connection is closed\")\n",
    "\n",
    "def compare_from_table(encoding,threshold=0.55):\n",
    "    try:\n",
    "        connection = mysql.connector.connect(host='localhost',\n",
    "                                             user='root',\n",
    "                                             password='',\n",
    "                                             database='face_db',)\n",
    "        cursor = connection.cursor()\n",
    "        mySql_comparison_query = f'''\n",
    "        SELECT r_id,c_id,sqrt({'+'.join([f\"power(e{idx+1} - {i}, 2)\" for idx,i in enumerate(encoding)])}) from face_table where \n",
    "        sqrt({'+'.join([f\"power(e{idx+1} - {i}, 2)\" for idx,i in enumerate(encoding)])})<{threshold}'''\n",
    "#         print(mySql_comparison_query)\n",
    "        cursor.execute(mySql_comparison_query)\n",
    "        records=cursor.fetchall()\n",
    "        print(\"query_executed!\")\n",
    "        return records\n",
    "    except mysql.connector.Error as error:\n",
    "        print(\"Failed to insert into MySQL table {}\".format(error))\n",
    "\n",
    "    finally:\n",
    "        if connection.is_connected():\n",
    "            cursor.close()\n",
    "            connection.close()\n",
    "            print(\"MySQL connection is closed\")\n",
    "\n"
   ]
  },
  {
   "cell_type": "markdown",
   "metadata": {},
   "source": [
    "## make db "
   ]
  },
  {
   "cell_type": "code",
   "execution_count": null,
   "metadata": {},
   "outputs": [],
   "source": [
    "make_db(db_name='face_db')\n"
   ]
  },
  {
   "cell_type": "markdown",
   "metadata": {},
   "source": [
    "## make table"
   ]
  },
  {
   "cell_type": "code",
   "execution_count": null,
   "metadata": {},
   "outputs": [],
   "source": [
    "make_table(table_name=\"face_table\")"
   ]
  },
  {
   "cell_type": "markdown",
   "metadata": {},
   "source": [
    "## make image encoding"
   ]
  },
  {
   "cell_type": "code",
   "execution_count": null,
   "metadata": {},
   "outputs": [],
   "source": [
    "img_path = './test.jpg'\n",
    "known_encoding=get_encoding(img_path)\n",
    "if type(known_encoding)==np.ndarray:\n",
    "    print(len(known_encoding))\n",
    "    display(Image.open(img_path).resize((200,200)))\n",
    "else:\n",
    "    print('no_encoding_find!')\n",
    "    display(Image.open(img_path).resize((200,200)))"
   ]
  },
  {
   "cell_type": "markdown",
   "metadata": {},
   "source": [
    "## insert record"
   ]
  },
  {
   "cell_type": "code",
   "execution_count": null,
   "metadata": {},
   "outputs": [],
   "source": [
    "insert_record_into_table(r_id=100000002, c_id=1, encoding=known_encoding)"
   ]
  },
  {
   "cell_type": "markdown",
   "metadata": {},
   "source": [
    "## make encoding "
   ]
  },
  {
   "cell_type": "code",
   "execution_count": null,
   "metadata": {},
   "outputs": [],
   "source": [
    "img_path = './4.jpg'\n",
    "known_encoding=get_encoding(img_path)\n",
    "if type(known_encoding)==np.ndarray:\n",
    "    print(len(known_encoding))\n",
    "    display(Image.open(img_path).resize((200,200)))\n",
    "else:\n",
    "    print('no_encoding_find!')\n",
    "    display(Image.open(img_path).resize((200,200)))"
   ]
  },
  {
   "cell_type": "markdown",
   "metadata": {},
   "source": [
    "## compare encoding with db encodings"
   ]
  },
  {
   "cell_type": "code",
   "execution_count": null,
   "metadata": {},
   "outputs": [],
   "source": [
    "start=time()\n",
    "display(compare_from_table(known_encoding,0.5))\n",
    "time()-start"
   ]
  },
  {
   "cell_type": "code",
   "execution_count": null,
   "metadata": {},
   "outputs": [],
   "source": []
  },
  {
   "cell_type": "code",
   "execution_count": null,
   "metadata": {},
   "outputs": [],
   "source": []
  },
  {
   "cell_type": "markdown",
   "metadata": {},
   "source": [
    "# Insert fake records"
   ]
  },
  {
   "cell_type": "code",
   "execution_count": null,
   "metadata": {},
   "outputs": [],
   "source": [
    "def insertion(i):\n",
    "    insert_record_into_table(r_id=i, c_id=1, encoding=np.random.random_sample(128))\n"
   ]
  },
  {
   "cell_type": "code",
   "execution_count": null,
   "metadata": {},
   "outputs": [],
   "source": [
    "from concurrent.futures import ThreadPoolExecutor\n",
    "from concurrent.futures import as_completed\n",
    "\n",
    "with ThreadPoolExecutor(max_workers = 50) as executor:\n",
    "    executor.map(insertion, list(range(200000,1000000)))\n"
   ]
  },
  {
   "cell_type": "code",
   "execution_count": null,
   "metadata": {},
   "outputs": [],
   "source": []
  },
  {
   "cell_type": "code",
   "execution_count": null,
   "metadata": {},
   "outputs": [],
   "source": []
  },
  {
   "cell_type": "code",
   "execution_count": null,
   "metadata": {},
   "outputs": [],
   "source": []
  },
  {
   "cell_type": "code",
   "execution_count": null,
   "metadata": {},
   "outputs": [],
   "source": []
  },
  {
   "cell_type": "code",
   "execution_count": null,
   "metadata": {},
   "outputs": [],
   "source": [
    "from psycopg2.pool import SimpleConnectionPool\n",
    "from contextlib import contextmanager"
   ]
  },
  {
   "cell_type": "code",
   "execution_count": null,
   "metadata": {},
   "outputs": [],
   "source": [
    "hostname = 'localhost'\n",
    "dbname = 'face_db'\n",
    "dbuser = 'root'\n",
    "dbpass = ''\n",
    "\n",
    "db = SimpleConnectionPool(1, 10,host=hostname,database=dbname,user=dbuser,  \n",
    "password=dbpass)\n",
    "\n",
    "@contextmanager\n",
    "def get_connection():\n",
    "    con = db.getconn()\n",
    "    try:\n",
    "        yield con\n",
    "    finally:\n",
    "        db.putconn(con)"
   ]
  },
  {
   "cell_type": "code",
   "execution_count": null,
   "metadata": {},
   "outputs": [],
   "source": [
    "def saveDb(r_id, c_id, face_encodings):\n",
    "\n",
    "    with get_connection() as conn:\n",
    "        try:\n",
    "            cursor = conn.cursor()\n",
    "            query = \"INSERT INTO encodings(r_id, c_id, encodevector) VALUES ('{}','{}', CUBE(array[{}]))\".format(r_id, c_id, ','.join(str(s) for s in face_encodings))\n",
    "            cursor.execute(query) \n",
    "            cursor.close()\n",
    "            conn.commit()\n",
    "            return 1\n",
    "        except:\n",
    "            conn.rollback()\n",
    "            return 0"
   ]
  },
  {
   "cell_type": "code",
   "execution_count": null,
   "metadata": {},
   "outputs": [],
   "source": [
    "def findDb(face_encodings, threshold=0.55):\n",
    "    with get_connection() as conn:\n",
    "        try:\n",
    "            name = 'Unknown'\n",
    "            empid = '0000000'\n",
    "            cursor = conn.cursor()            \n",
    "            query = \"SELECT r_id, c_id FROM encodings WHERE sqrt(power(CUBE(array[{}]) <-> encodevector, 2)) <= {} \".format(','.join(str(s) for s in face_encodings), threshold) + \"ORDER BY sqrt(power(CUBE(array[{}]) <-> encodevector, 2)) ASC LIMIT 1\".format(','.join(str(s) for s in face_encodings))\n",
    "            cursor.execute(query)\n",
    "            data = cursor.fetchone()\n",
    "            if data == None:\n",
    "                return name, empid\n",
    "            else:\n",
    "                return data\n",
    "        except Exception as e:\n",
    "            return e"
   ]
  },
  {
   "cell_type": "code",
   "execution_count": null,
   "metadata": {},
   "outputs": [],
   "source": [
    "def test(face_encodings):\n",
    "    return query = \"SELECT r_id, c_id FROM encodings WHERE sqrt(power(CUBE(array[{}]) <-> encodevector, 2)) <= {} \"\\\n",
    ".format(','.join(str(s) for s in face_encodings), threshold) + \"ORDER BY sqrt(power(CUBE(array[{}]) <-> encodevector, 2)) ASC LIMIT 1\".format(','.join(str(s) for s in face_encodings))\n",
    "\n",
    "\n"
   ]
  },
  {
   "cell_type": "code",
   "execution_count": null,
   "metadata": {},
   "outputs": [],
   "source": []
  },
  {
   "cell_type": "code",
   "execution_count": null,
   "metadata": {},
   "outputs": [],
   "source": []
  },
  {
   "cell_type": "code",
   "execution_count": null,
   "metadata": {},
   "outputs": [],
   "source": []
  },
  {
   "cell_type": "code",
   "execution_count": null,
   "metadata": {},
   "outputs": [],
   "source": []
  },
  {
   "cell_type": "code",
   "execution_count": null,
   "metadata": {},
   "outputs": [],
   "source": []
  },
  {
   "cell_type": "code",
   "execution_count": null,
   "metadata": {},
   "outputs": [],
   "source": []
  },
  {
   "cell_type": "code",
   "execution_count": null,
   "metadata": {},
   "outputs": [],
   "source": []
  },
  {
   "cell_type": "code",
   "execution_count": null,
   "metadata": {},
   "outputs": [],
   "source": []
  }
 ],
 "metadata": {
  "kernelspec": {
   "display_name": "Python 3 (ipykernel)",
   "language": "python",
   "name": "python3"
  },
  "language_info": {
   "codemirror_mode": {
    "name": "ipython",
    "version": 3
   },
   "file_extension": ".py",
   "mimetype": "text/x-python",
   "name": "python",
   "nbconvert_exporter": "python",
   "pygments_lexer": "ipython3",
   "version": "3.9.12"
  },
  "vscode": {
   "interpreter": {
    "hash": "7240ea951ceaba11e29eac9de981dee739bdf7955bec6037107e9ed0cae0a328"
   }
  }
 },
 "nbformat": 4,
 "nbformat_minor": 2
}
