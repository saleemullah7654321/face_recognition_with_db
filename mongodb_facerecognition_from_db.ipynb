{
 "cells": [
  {
   "cell_type": "markdown",
   "metadata": {},
   "source": [
    "# import required"
   ]
  },
  {
   "cell_type": "code",
   "execution_count": null,
   "metadata": {},
   "outputs": [],
   "source": [
    "import face_recognition\n",
    "from PIL import Image\n",
    "import numpy as np\n",
    "import tqdm\n",
    "import os\n",
    "from time import time"
   ]
  },
  {
   "cell_type": "code",
   "execution_count": null,
   "metadata": {},
   "outputs": [],
   "source": [
    "face_recognition.__version__"
   ]
  },
  {
   "cell_type": "markdown",
   "metadata": {},
   "source": [
    "# Make Encoding of any face image"
   ]
  },
  {
   "cell_type": "code",
   "execution_count": null,
   "metadata": {},
   "outputs": [],
   "source": [
    "def get_encoding(img_path):\n",
    "    try:\n",
    "        known_image = face_recognition.load_image_file(img_path)\n",
    "        face=face_recognition.face_locations(known_image,number_of_times_to_upsample=2)\n",
    "        known_encoding = face_recognition.face_encodings(known_image,known_face_locations=face,num_jitters=4)[0]\n",
    "        return known_encoding\n",
    "    except:\n",
    "        return None"
   ]
  },
  {
   "cell_type": "markdown",
   "metadata": {},
   "source": [
    "# mongo connection"
   ]
  },
  {
   "cell_type": "code",
   "execution_count": null,
   "metadata": {},
   "outputs": [],
   "source": [
    "import pymongo\n",
    "\n",
    "myclient = pymongo.MongoClient(\"mongodb://localhost:27017/\")\n",
    "mydb = myclient[\"face_database\"]\n",
    "\n",
    "mycol = mydb[\"face_collection\"]"
   ]
  },
  {
   "cell_type": "markdown",
   "metadata": {},
   "source": [
    "## check if collection exists"
   ]
  },
  {
   "cell_type": "code",
   "execution_count": null,
   "metadata": {},
   "outputs": [],
   "source": [
    "collist = mydb.list_collection_names()\n",
    "if \"face_collection\" in collist:\n",
    "      print(\"The collection exists.\")"
   ]
  },
  {
   "cell_type": "code",
   "execution_count": null,
   "metadata": {},
   "outputs": [],
   "source": [
    "def insert_record_into_collection(request_id, client_id,encoding,matched_ids=[]):\n",
    "    data={'request_id':str(request_id), 'client_id':str(client_id),'matched_ids':[str(i) for i in matched_ids]}\n",
    "    encoding_data=dict([(f'e{idx+1}',i) for idx,i in enumerate(encoding)])\n",
    "#     data['encodings']=list(encoding)\n",
    "    data['encodings']=encoding_data\n",
    "    status=mycol.insert_one(data)\n",
    "    return status"
   ]
  },
  {
   "cell_type": "code",
   "execution_count": null,
   "metadata": {},
   "outputs": [],
   "source": []
  },
  {
   "cell_type": "code",
   "execution_count": null,
   "metadata": {},
   "outputs": [],
   "source": [
    "def compare_from_collection(encoding,client_id,threshold=0.55):\n",
    "    step1=dict([(f't_e{idx+1}',{'$pow':[{'$subtract':[f'$encodings.e{idx+1}', i]}, 2]}) for idx,i in enumerate(encoding) ])\n",
    "    data_to_return={'request_id': 1, \n",
    "            'client_id': 1, \n",
    "            'matched_ids': 1, \n",
    "            'encodings': 1}\n",
    "    step1.update(data_to_return)\n",
    "    result=mycol.aggregate([\n",
    "         {\n",
    "        '$project': data_to_return\n",
    "            },\n",
    "         {\n",
    "            '$match': {\n",
    "                'client_id': str(client_id)\n",
    "            }\n",
    "        },\n",
    "        {\n",
    "            '$project': step1\n",
    "        }, \n",
    "        {\n",
    "            '$project': {\n",
    "                'request_id': 1, \n",
    "            'client_id': 1, \n",
    "            'matched_ids': 1, \n",
    "                'distance': {\n",
    "                    '$sqrt': {\n",
    "                        '$sum':[f'$t_e{i}' for i in range(1,129)]\n",
    "                    }\n",
    "                }\n",
    "            }\n",
    "        },\n",
    "         {\n",
    "        '$match': {\n",
    "            'distance': {\n",
    "                '$lt': threshold\n",
    "            }\n",
    "        }\n",
    "    }\n",
    "    ]\n",
    "    )\n",
    "    return list(result)"
   ]
  },
  {
   "cell_type": "markdown",
   "metadata": {},
   "source": [
    "## make image encoding"
   ]
  },
  {
   "cell_type": "code",
   "execution_count": null,
   "metadata": {},
   "outputs": [],
   "source": [
    "img_path = './haseeb.jpg'\n",
    "known_encoding=get_encoding(img_path)\n",
    "if type(known_encoding)==np.ndarray:\n",
    "    print(len(known_encoding))\n",
    "    display(Image.open(img_path).resize((200,200)))\n",
    "else:\n",
    "    print('no_encoding_find!')\n",
    "    display(Image.open(img_path).resize((200,200)))"
   ]
  },
  {
   "cell_type": "markdown",
   "metadata": {},
   "source": [
    "## insert record"
   ]
  },
  {
   "cell_type": "code",
   "execution_count": null,
   "metadata": {},
   "outputs": [],
   "source": [
    "insert_record_into_collection(request_id=2002, client_id=2,matched_ids=[], encoding=known_encoding)"
   ]
  },
  {
   "cell_type": "markdown",
   "metadata": {},
   "source": [
    "## make encoding "
   ]
  },
  {
   "cell_type": "code",
   "execution_count": null,
   "metadata": {},
   "outputs": [],
   "source": [
    "img_path = './talat.jpg'\n",
    "known_encoding=get_encoding(img_path)\n",
    "if type(known_encoding)==np.ndarray:\n",
    "    print(len(known_encoding))\n",
    "    display(Image.open(img_path).resize((200,200)))\n",
    "else:\n",
    "    print('no_encoding_find!')\n",
    "    display(Image.open(img_path).resize((200,200)))"
   ]
  },
  {
   "cell_type": "markdown",
   "metadata": {},
   "source": [
    "## compare encoding with db encodings"
   ]
  },
  {
   "cell_type": "code",
   "execution_count": null,
   "metadata": {},
   "outputs": [],
   "source": [
    "start=time()\n",
    "display(compare_from_collection(encoding=known_encoding,client_id='test',threshold=0.47))\n",
    "time()-start"
   ]
  },
  {
   "cell_type": "markdown",
   "metadata": {},
   "source": [
    "# Insert fake records"
   ]
  },
  {
   "cell_type": "code",
   "execution_count": null,
   "metadata": {},
   "outputs": [],
   "source": [
    "def insertion(i):\n",
    "    insert_record_into_collection(request_id=i, client_id=\"test\", encoding=np.random.random_sample(128),matched_ids=[])\n"
   ]
  },
  {
   "cell_type": "code",
   "execution_count": null,
   "metadata": {},
   "outputs": [],
   "source": [
    "from concurrent.futures import ThreadPoolExecutor\n",
    "from concurrent.futures import as_completed\n",
    "\n",
    "with ThreadPoolExecutor(max_workers = 50) as executor:\n",
    "    executor.map(insertion, list(range(50000,1000000)))\n"
   ]
  },
  {
   "cell_type": "code",
   "execution_count": null,
   "metadata": {},
   "outputs": [],
   "source": [
    "a=get_encoding('./saleem.jpg')\n",
    "b=get_encoding('./4.jpg')"
   ]
  },
  {
   "cell_type": "code",
   "execution_count": null,
   "metadata": {},
   "outputs": [],
   "source": [
    "np.linalg.norm(a-[b])"
   ]
  },
  {
   "cell_type": "code",
   "execution_count": null,
   "metadata": {},
   "outputs": [],
   "source": []
  },
  {
   "cell_type": "code",
   "execution_count": null,
   "metadata": {},
   "outputs": [],
   "source": []
  },
  {
   "cell_type": "code",
   "execution_count": null,
   "metadata": {},
   "outputs": [],
   "source": []
  },
  {
   "cell_type": "code",
   "execution_count": null,
   "metadata": {},
   "outputs": [],
   "source": [
    "client_id=1\n",
    "encoding=range(1,129)\n",
    "[\n",
    "     {\n",
    "        '$match': {\n",
    "            'client_id': client_id\n",
    "        }\n",
    "    },\n",
    "    {\n",
    "        '$project': dict([(f't_e{idx+1}',{'$pow':[{'$subtract':[f'$encodings.e{idx+1}', i]}, 2]}) for idx,i in enumerate(encoding) ])\n",
    "    }, \n",
    "    {\n",
    "        '$project': {\n",
    "            'total': {\n",
    "                '$sqrt': {\n",
    "                    '$sum':[f'$t_e{i}' for i in range(1,129)]\n",
    "                }\n",
    "            }\n",
    "        }\n",
    "    }\n",
    "]\n"
   ]
  },
  {
   "cell_type": "code",
   "execution_count": null,
   "metadata": {},
   "outputs": [],
   "source": [
    "dict([(f't_e{idx}',{'$pow':[{'$subtract':[f'$encodings.{idx}1', i]}, 2]}) for idx,i in enumerate(range(1,129)) ])"
   ]
  },
  {
   "cell_type": "code",
   "execution_count": null,
   "metadata": {},
   "outputs": [],
   "source": [
    " [\n",
    "                        '$t_e1', '$t_e2'\n",
    "                    ]\n",
    "    \n",
    "[f'$t_e{i}' for i in range(1,129)]"
   ]
  },
  {
   "cell_type": "code",
   "execution_count": null,
   "metadata": {},
   "outputs": [],
   "source": []
  },
  {
   "cell_type": "code",
   "execution_count": null,
   "metadata": {},
   "outputs": [],
   "source": [
    "import numpy as np\n",
    "\n",
    "def distance(arr1,arr2):    \n",
    "    return np.sum((arr1 - arr2)**2)**0.5"
   ]
  },
  {
   "cell_type": "code",
   "execution_count": null,
   "metadata": {},
   "outputs": [],
   "source": [
    "p=np.array([1,2,1,4,5,3,7,8,9,10])\n",
    "q=np.array([1,2,3,4,5,6,7,8,9,10])"
   ]
  },
  {
   "cell_type": "code",
   "execution_count": null,
   "metadata": {},
   "outputs": [],
   "source": [
    "distance(p,q)"
   ]
  },
  {
   "cell_type": "code",
   "execution_count": null,
   "metadata": {},
   "outputs": [],
   "source": [
    "a=np.sqrt(sum([(i-j)**2 for i,j in zip(p,[10]*len(p))]))\n",
    "a"
   ]
  },
  {
   "cell_type": "code",
   "execution_count": null,
   "metadata": {},
   "outputs": [],
   "source": [
    "b=np.sqrt(sum([(i-j)**2 for i,j in zip(q,[10]*len(q))]))\n",
    "b"
   ]
  },
  {
   "cell_type": "code",
   "execution_count": null,
   "metadata": {},
   "outputs": [],
   "source": [
    "abs(a-b)"
   ]
  },
  {
   "cell_type": "code",
   "execution_count": null,
   "metadata": {},
   "outputs": [],
   "source": []
  }
 ],
 "metadata": {
  "kernelspec": {
   "display_name": "Python 3 (ipykernel)",
   "language": "python",
   "name": "python3"
  },
  "language_info": {
   "codemirror_mode": {
    "name": "ipython",
    "version": 3
   },
   "file_extension": ".py",
   "mimetype": "text/x-python",
   "name": "python",
   "nbconvert_exporter": "python",
   "pygments_lexer": "ipython3",
   "version": "3.9.12"
  },
  "vscode": {
   "interpreter": {
    "hash": "7240ea951ceaba11e29eac9de981dee739bdf7955bec6037107e9ed0cae0a328"
   }
  }
 },
 "nbformat": 4,
 "nbformat_minor": 2
}
